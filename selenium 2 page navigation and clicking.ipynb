{
 "cells": [
  {
   "cell_type": "code",
   "execution_count": 1,
   "metadata": {},
   "outputs": [],
   "source": [
    "from selenium import webdriver\n",
    "from selenium.webdriver.common.keys import Keys\n",
    "from selenium.webdriver.common.by import By\n",
    "from selenium.webdriver.support.ui import WebDriverWait\n",
    "from selenium.webdriver.support import expected_conditions as EC\n",
    "import time"
   ]
  },
  {
   "cell_type": "code",
   "execution_count": 2,
   "metadata": {},
   "outputs": [],
   "source": [
    "#setting the path of chrome driver in chrome.\n",
    "path ='C:/Users/omkri/Desktop/software setup/chromedriver.exe'"
   ]
  },
  {
   "cell_type": "code",
   "execution_count": 3,
   "metadata": {},
   "outputs": [],
   "source": [
    "# give the path webdriver chrome attribute\n",
    "driver = webdriver.Chrome(path)"
   ]
  },
  {
   "cell_type": "markdown",
   "metadata": {},
   "source": [
    "# page navigator and clicking"
   ]
  },
  {
   "cell_type": "code",
   "execution_count": null,
   "metadata": {},
   "outputs": [],
   "source": [
    "#change the link\n",
    "driver.get('https://tutoraj.com/')\n",
    "link=driver.find_element_by_partial_link_text(\"Get Started\")\n",
    "link.click()\n",
    "\n",
    "try:\n",
    "    element=WebDriverWait(driver, 10).until(\n",
    "    EC.presence_of_element_located (by.LINK_TEXT, \"Login\"))\n",
    "    element.click()\n",
    "    \n",
    "except:\n",
    "    driver.quit()\n",
    "import time"
   ]
  }
 ],
 "metadata": {
  "kernelspec": {
   "display_name": "Python 3",
   "language": "python",
   "name": "python3"
  },
  "language_info": {
   "codemirror_mode": {
    "name": "ipython",
    "version": 3
   },
   "file_extension": ".py",
   "mimetype": "text/x-python",
   "name": "python",
   "nbconvert_exporter": "python",
   "pygments_lexer": "ipython3",
   "version": "3.7.3"
  }
 },
 "nbformat": 4,
 "nbformat_minor": 2
}
