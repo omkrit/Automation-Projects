{
 "cells": [
  {
   "cell_type": "markdown",
   "metadata": {},
   "source": [
    "# Project of automativ cookie clicker game thrrough python and selenium\n",
    "\n",
    "\n",
    "## This game is simply count the number of clicked cookies and "
   ]
  },
  {
   "cell_type": "code",
   "execution_count": 3,
   "metadata": {},
   "outputs": [],
   "source": [
    "from selenium import webdriver\n",
    "from selenium.webdriver.common.action_chains import ActionChains"
   ]
  },
  {
   "cell_type": "code",
   "execution_count": 4,
   "metadata": {},
   "outputs": [],
   "source": [
    "path ='C:/Users/omkri/Desktop/software setup/chromedriver.exe'\n",
    "driver = webdriver.Chrome(path)\n",
    "driver.get('https://orteil.dashnet.org/cookieclicker/')\n",
    "driver.implicitly_wait(5)"
   ]
  },
  {
   "cell_type": "code",
   "execution_count": null,
   "metadata": {},
   "outputs": [],
   "source": [
    "cookie = driver.find_element_by_id(\"bigCookie\")\n",
    "cookies_count = driver.find_element_by_id(\"cookies\")\n",
    "\n",
    "\n",
    "items=[driver.find_element_by_id(\"productPrice\"+str(i)) for i in range(1,-1,-1)]\n",
    "actions=ActionChains(driver)\n",
    "actions.click(cookie)\n",
    "\n",
    "\n",
    "for i in range(5000):\n",
    "    actions.perform()\n",
    "    count=int(cookies_count.text.split(\" \")[0])\n",
    "    #print(count)\n",
    "    for item in items:\n",
    "        value=int(item.text)\n",
    "        if value<= count:\n",
    "            upgrade_action = ActionChains(driver)\n",
    "            upgrade_action.move_to_element(item)\n",
    "            upgrade_action.click()\n",
    "            upgrade_action.perform()"
   ]
  },
  {
   "cell_type": "code",
   "execution_count": null,
   "metadata": {},
   "outputs": [],
   "source": []
  }
 ],
 "metadata": {
  "kernelspec": {
   "display_name": "Python 3",
   "language": "python",
   "name": "python3"
  },
  "language_info": {
   "codemirror_mode": {
    "name": "ipython",
    "version": 3
   },
   "file_extension": ".py",
   "mimetype": "text/x-python",
   "name": "python",
   "nbconvert_exporter": "python",
   "pygments_lexer": "ipython3",
   "version": "3.7.3"
  }
 },
 "nbformat": 4,
 "nbformat_minor": 2
}
